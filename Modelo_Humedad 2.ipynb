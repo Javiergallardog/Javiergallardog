{
 "cells": [
  {
   "cell_type": "code",
   "execution_count": 16,
   "metadata": {},
   "outputs": [],
   "source": [
    "import matplotlib.pyplot as plt\n",
    "import sympy\n",
    "from sympy import symbols, Function, dsolve ,solve, nsolve, sqrt, Eq, exp, Derivative\n",
    "from scipy.optimize import fsolve\n",
    "from sympy import *\n",
    "import numpy as np "
   ]
  },
  {
   "attachments": {},
   "cell_type": "markdown",
   "metadata": {},
   "source": [
    "\\begin{equation}\n",
    "\\alpha_f l_z \\rho_a c_{p, d}(1+\\mu \\lambda) \\frac{\\partial T}{\\partial t}=\\dot{q}_T^{\\prime \\prime}-h_R\\left(\\bar{T}-T_{\\infty}\\right)\n",
    "\\end{equation}"
   ]
  },
  {
   "cell_type": "code",
   "execution_count": 11,
   "metadata": {},
   "outputs": [
    {
     "data": {
      "text/latex": [
       "$\\displaystyle Cp_{d} \\alpha_{f} \\rho_{a} \\left(\\lambda_{f} \\mu + 1\\right) \\frac{d}{d t} T{\\left(t \\right)} = \\dot{q}_T^{''} - h_{R} \\left(- T_{inf} + T{\\left(t \\right)}\\right)$"
      ],
      "text/plain": [
       "Eq(Cp_d*alpha_f*rho_a*(lambda_f*mu + 1)*Derivative(T(t), t), \\dot{q}_T^{''} - h_R*(-T_inf + T(t)))"
      ]
     },
     "metadata": {},
     "output_type": "display_data"
    }
   ],
   "source": [
    "\n",
    "alpha_f, rho_a, Cp_d, mu, l_z, q_T, lambda_f, T_inf, h_R, t  = sympy.symbols(\"alpha_f rho_a Cp_d mu l_z \\dot{q}_T^{''} lambda_f T_inf h_R t\")\n",
    "T = sympy.Function(\"T\")\n",
    "ex = alpha_f * rho_a * Cp_d * (1+ mu*lambda_f) * T(t).diff(t)\n",
    "ex_p = q_T - h_R*(T(t)-T_inf)\n",
    "ed = sympy.Eq(ex,ex_p)\n",
    "display(ed)"
   ]
  },
  {
   "cell_type": "code",
   "execution_count": 77,
   "metadata": {},
   "outputs": [],
   "source": [
    "#Parameters\n",
    "alpha_qui       = 0.023                                     #Volumen fraction\n",
    "rho_qui         = 1094      #kg/m3                          #Density\n",
    "m_qui           = 38.86     #g                              #Quillay sample mass    \n",
    "fmc             = 1.06      #-                              #Fuel moisture content\n",
    "m_d             = m_qui/(fmc+1)                             #Mass dry    \n",
    "m_w             = m_qui-m_d                                 #Mass wet    \n",
    "V_f             = m_qui/rho_qui                             #Fuel volumen\n",
    "rho_a           = m_d/V_f                                   #Fensity for the porous wet material\n",
    "lambda_f        = m_d/m_w                                   #Dry weight moisture content parameter\n",
    "\n",
    "Cp_qui          = 1680      #J/kgK                          #Specific heat fuel\n",
    "Cp_w            = 0         ## cp agua                      #Specific heat water \n",
    "q_cri_qui       = 10E3      #w/m2                           #Critical incident heat flux\n",
    "sigma_qui       = 5600      #m-1                            #Surface  to volume ratio\n",
    "sigma           = 5.67E-8   #W/m2K4                         #Stefa-Boltzmann constant\n",
    "T_inf           = 300       #K                              #Ambient Temperature   \n",
    "l_z_qui         = 0.03      #m                              #Height of sample holder\n",
    "h_R             = 4*sigma*T_inf**3                          #Heat transfer coeficient\n",
    "\n",
    "q_vals = [25E3, 30E3, 35E3, 40E3, 45E3]    \n",
    "t_ig_real = [276.2, 118.9, 78.4, 60.6, 30.7]\n"
   ]
  },
  {
   "cell_type": "code",
   "execution_count": 65,
   "metadata": {},
   "outputs": [],
   "source": [
    "def T(alpha_f, l_z, rho_a, cp_d, mu, lambda_f, h_R, q_T, T_inf, T):\n",
    "    return (q_T- h_R*(T-T_inf))/(alpha_f*l_z*rho_a*cp_d*(1+mu*lambda_f))\n",
    "def fT_ig(q_cri, sigma, T_inf):\n",
    "    def f(T):\n",
    "        return sigma*(T**4-T_inf**4)-q_cri\n",
    "    T0 = 1000\n",
    "    return fsolve(f,T0)\n",
    "def fmu(cp_w,T,T_inf,L_w,T_ig,cp_d):\n",
    "    return (cp_w*(T-T_inf)+L_w)/(cp_d*(T_ig-T_inf))\n"
   ]
  },
  {
   "cell_type": "code",
   "execution_count": 79,
   "metadata": {},
   "outputs": [
    {
     "name": "stdout",
     "output_type": "stream",
     "text": [
      "Temperatura de ignición: 655.36 (esta Temperatura no considera perdidas por convección)\n"
     ]
    }
   ],
   "source": [
    "T_ig = fT_ig(q_cri_qui, sigma, T_inf)[0]\n",
    "print(f'Temperatura de ignición: {T_ig:.2f} (esta Temperatura no considera perdidas por convección)')\n"
   ]
  },
  {
   "cell_type": "code",
   "execution_count": 80,
   "metadata": {},
   "outputs": [],
   "source": [
    "def euler_t(alpha_f, l_z, rho_a, cp_d, cp_w, lambda_f, h_R, q_cri, T_inf, T, fuel,data):\n",
    "    T0 = 300.0 # initial temperature\n",
    "    t0 = 0.0   # initial time\n",
    "    h = 0.1   # step size\n",
    "    tmax = 300 # max time to consider\n",
    "    \n",
    "    mu = fmu(cp_w,T,T_inf,L_w,T_ig,cp_d)\n",
    "\n",
    "    nit = int((tmax-t0)/h)\n",
    "    T_save = np.zeros((len(q_vals),nit+1))\n",
    "    tig_save = np.zeros(len(q_vals))\n",
    "    t_sp = np.linspace(t0,tmax,nit+1)\n",
    "\n",
    "    X = 1.0 #Khan et al\n",
    "    for u,q in enumerate(q_vals):\n",
    "        q_T = q-X*q_cri\n",
    "        T = T0\n",
    "        t = t0\n",
    "        v = 0\n",
    "        while t < tmax: \n",
    "            T = T + h*T(alpha_f, l_z, rho_a, cp_d, mu, lambda_f, h_R, q_T, T_inf, T)\n",
    "            t = t + h\n",
    "            T_save[u,v] =  T\n",
    "            v +=1\n",
    "            if T_ig-T <= 1:   \n",
    "                if tig_save[u]==0:\n",
    "                    tig_save[u]=t        \n",
    "    # fig, (ax1, ax2) = plt.subplots(1,2, figsize=(15,5))\n",
    "    fig, (ax1, ax2) = plt.subplots(1,2, figsize=(15,5))\n",
    "    plt.suptitle(fuel)\n",
    "#  ----\n",
    "    [ax1.plot(t_sp, T_save[i,:], label=r\"$q_{in}$ = \" + str(int(round(q_vals[i]/1000,0))) + r\" $\\frac{kW}{m^2}$\") for i in range(len(q_vals))]\n",
    "    ax1.legend()\n",
    "    ax1.set_xlabel('Time [s]')\n",
    "    ax1.set_ylabel('Temperature [K]')\n",
    "    ax1.set_title('Temperature vs Time')\n",
    "    ax1.grid(alpha=0.5)\n",
    "#  ----\n",
    "    ax2.scatter(q_vals,tig_save, label=\"Metedo Numerico\")\n",
    "    if data: \n",
    "        ax2.scatter(q_vals,data, label=\"Data Experimental\")\n",
    "    ax2.legend()\n",
    "    ax2.set_xlabel(r'$q¨_{in}$ [kw/m2]')\n",
    "    ax2.set_ylabel(r'$t_{ig}$ [s]')\n",
    "    # ax2.set_title('Incident Flux vs Ignition time')\n",
    "    ax2.grid(alpha=0.3)\n",
    "    ax2.set_xticks(q_vals,[int(x / 1000) for x in q_vals])\n",
    "#  ----\n",
    "\n",
    "\n",
    "    fig.savefig(\"1hu\")\n",
    "    return tig_save"
   ]
  },
  {
   "cell_type": "code",
   "execution_count": null,
   "metadata": {},
   "outputs": [],
   "source": [
    "# Resolucion numerica\n",
    "t_ig = euler_t(alpha_qui, l_z_qui, rho_qui, Cp_qui, Cp_w, lambda_f, h_R, T_inf, t_ig_real)"
   ]
  }
 ],
 "metadata": {
  "kernelspec": {
   "display_name": "ct-env",
   "language": "python",
   "name": "python3"
  },
  "language_info": {
   "codemirror_mode": {
    "name": "ipython",
    "version": 3
   },
   "file_extension": ".py",
   "mimetype": "text/x-python",
   "name": "python",
   "nbconvert_exporter": "python",
   "pygments_lexer": "ipython3",
   "version": "3.10.11"
  },
  "orig_nbformat": 4
 },
 "nbformat": 4,
 "nbformat_minor": 2
}
